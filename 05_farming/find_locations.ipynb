{
 "cells": [
  {
   "cell_type": "code",
   "execution_count": null,
   "metadata": {},
   "outputs": [],
   "source": [
    "# use split to parse out map entries\n",
    "MAP_NAMES = [\n",
    "    'seed-to-soil map:',\n",
    "    'soil-to-fertilizer map:',\n",
    "    'fertilizer-to-water map:',\n",
    "    'water-to-light map:',\n",
    "    'light-to-temperature map:',\n",
    "    'temperature-to-humidity map:',\n",
    "    'humidity-to-location map:',\n",
    "]"
   ]
  },
  {
   "cell_type": "code",
   "execution_count": null,
   "metadata": {},
   "outputs": [],
   "source": [
    "def parse_input(input_file):\n",
    "    with open(input_file, 'r') as file:\n",
    "        raw_text = file.read()\n",
    "\n",
    "    lines = raw_text.replace('\\n\\n', '\\n')\n",
    "    # parse out seeds\n",
    "    seed_list = (\n",
    "        lines.split('\\n')[0]\n",
    "        .split('seeds: ')[1]\n",
    "        .split(' ')\n",
    "    )\n",
    "    seed_list = [int(seed) for seed in seed_list]\n",
    "    # print(seed_list)\n",
    "\n",
    "    map_list = [[] for _ in range(len(MAP_NAMES))]\n",
    "    for i, map_name in enumerate(MAP_NAMES[::-1]):\n",
    "        split = lines.split('\\n' + map_name + '\\n')\n",
    "        # split all entries for one map\n",
    "        for mapping in split[1].split('\\n'):\n",
    "            entry = [int(num) for num in mapping.split(' ')]\n",
    "            map_list[-i -1].append(entry)\n",
    "        \n",
    "        # discard used map\n",
    "        lines = split[0]\n",
    "\n",
    "    return map_list, seed_list\n",
    "\n",
    "maps, seeds = parse_input('input.txt')"
   ]
  },
  {
   "cell_type": "code",
   "execution_count": null,
   "metadata": {},
   "outputs": [
    {
     "data": {
      "text/plain": [
       "51580674"
      ]
     },
     "execution_count": 7,
     "metadata": {},
     "output_type": "execute_result"
    }
   ],
   "source": [
    "def find_closest_location(seeds, maps):\n",
    "    # progress the seed number to the end of maps to get location\n",
    "    # then get min ind of locations\n",
    "    locations = []\n",
    "    for seed in seeds:\n",
    "        transform_val = seed\n",
    "        for i, mp in enumerate(maps):\n",
    "            #debug_from = MAP_NAMES[i].split('-')[0]\n",
    "            #debug_to = MAP_NAMES[i].split('-')[2].split(' ')[0]\n",
    "            #print(f'seed: {seed}| {debug_from} -> {debug_to}')\n",
    "            \n",
    "            for entry in mp:\n",
    "                # seed has a remap\n",
    "                if transform_val in range(entry[1], entry[1] + entry[2]):\n",
    "                    #print(f'{transform_val}')\n",
    "                    transform_val = entry[0] + (transform_val - entry[1])\n",
    "                    #print(f'-> {transform_val}! | entry: {entry}')\n",
    "                    break\n",
    "        locations.append(transform_val)\n",
    "    return min(locations)\n",
    "\n",
    "find_closest_location(seeds, maps)"
   ]
  },
  {
   "cell_type": "markdown",
   "metadata": {},
   "source": [
    "## Part 2\n",
    "\n",
    "Gotta do reverse lookup based on what locations we have.\n",
    "- check what seed a location corresponds to\n",
    "- check if that seed is in the list of seed ranges\n",
    "\n",
    "start from 0 and increment upwards"
   ]
  },
  {
   "cell_type": "code",
   "execution_count": 41,
   "metadata": {},
   "outputs": [
    {
     "name": "stdout",
     "output_type": "stream",
     "text": [
      "processed 29000000 locations\n",
      "processed 30000000 locations\n",
      "processed 31000000 locations\n",
      "processed 32000000 locations\n",
      "processed 33000000 locations\n",
      "processed 34000000 locations\n",
      "processed 35000000 locations\n",
      "processed 36000000 locations\n",
      "processed 37000000 locations\n",
      "processed 38000000 locations\n",
      "processed 39000000 locations\n",
      "processed 40000000 locations\n",
      "processed 41000000 locations\n",
      "processed 42000000 locations\n",
      "processed 43000000 locations\n",
      "processed 44000000 locations\n",
      "processed 45000000 locations\n",
      "processed 46000000 locations\n",
      "processed 47000000 locations\n",
      "processed 48000000 locations\n",
      "processed 49000000 locations\n",
      "processed 50000000 locations\n",
      "processed 51000000 locations\n",
      "processed 52000000 locations\n",
      "processed 53000000 locations\n",
      "processed 54000000 locations\n",
      "processed 55000000 locations\n",
      "processed 56000000 locations\n",
      "processed 57000000 locations\n",
      "processed 58000000 locations\n",
      "processed 59000000 locations\n",
      "processed 60000000 locations\n",
      "processed 61000000 locations\n",
      "processed 62000000 locations\n",
      "processed 63000000 locations\n",
      "processed 64000000 locations\n",
      "processed 65000000 locations\n",
      "processed 66000000 locations\n",
      "processed 67000000 locations\n",
      "processed 68000000 locations\n",
      "processed 69000000 locations\n",
      "processed 70000000 locations\n",
      "processed 71000000 locations\n",
      "processed 72000000 locations\n",
      "processed 73000000 locations\n",
      "processed 74000000 locations\n",
      "processed 75000000 locations\n",
      "processed 76000000 locations\n",
      "processed 77000000 locations\n",
      "processed 78000000 locations\n",
      "processed 79000000 locations\n",
      "processed 80000000 locations\n",
      "processed 81000000 locations\n",
      "processed 82000000 locations\n",
      "processed 83000000 locations\n",
      "processed 84000000 locations\n",
      "processed 85000000 locations\n",
      "processed 86000000 locations\n",
      "processed 87000000 locations\n",
      "processed 88000000 locations\n",
      "processed 89000000 locations\n",
      "processed 90000000 locations\n",
      "processed 91000000 locations\n",
      "processed 92000000 locations\n",
      "processed 93000000 locations\n",
      "processed 94000000 locations\n",
      "processed 95000000 locations\n",
      "processed 96000000 locations\n",
      "processed 97000000 locations\n",
      "processed 98000000 locations\n",
      "processed 99000000 locations\n",
      "target: target\n"
     ]
    }
   ],
   "source": [
    "maps, seeds = parse_input('input.txt')\n",
    "def get_seed_ranges(seeds):\n",
    "    seed_ranges = []\n",
    "    for i in range(0, len(seeds), 2):\n",
    "        seed_ranges.append(range(seeds[i], seeds[i] + seeds[i+1]))\n",
    "    return seed_ranges\n",
    "\n",
    "seed_ranges = get_seed_ranges(seeds)\n",
    "\n",
    "def reverse_lookup(location, maps):\n",
    "    transform_val = location\n",
    "    for mapping in maps[::-1]:\n",
    "        for entry in mapping:\n",
    "            if transform_val in range(entry[0], entry[0] + entry[2]):    \n",
    "                transform_val = entry[1] + (transform_val - entry[0])\n",
    "                break\n",
    "    return transform_val\n",
    "# print(reverse_lookup(43,maps))\n",
    "\n",
    "def find_closest_location(seed_ranges, maps):\n",
    "    location = 29000000\n",
    "    while True:\n",
    "        if location % 1e6 == 0:\n",
    "            print(f'processed {location} locations')\n",
    "        seed = reverse_lookup(location, maps)\n",
    "        for seed_range in seed_ranges:\n",
    "            if seed in seed_range:\n",
    "                return location\n",
    "        location += 1\n",
    "target = find_closest_location(seed_ranges, maps)\n",
    "print('target: target')"
   ]
  },
  {
   "cell_type": "code",
   "execution_count": 42,
   "metadata": {},
   "outputs": [
    {
     "data": {
      "text/plain": [
       "99751240"
      ]
     },
     "execution_count": 42,
     "metadata": {},
     "output_type": "execute_result"
    }
   ],
   "source": [
    "target"
   ]
  }
 ],
 "metadata": {
  "kernelspec": {
   "display_name": "python-dev",
   "language": "python",
   "name": "python3"
  },
  "language_info": {
   "codemirror_mode": {
    "name": "ipython",
    "version": 3
   },
   "file_extension": ".py",
   "mimetype": "text/x-python",
   "name": "python",
   "nbconvert_exporter": "python",
   "pygments_lexer": "ipython3",
   "version": "3.10.8"
  }
 },
 "nbformat": 4,
 "nbformat_minor": 2
}
