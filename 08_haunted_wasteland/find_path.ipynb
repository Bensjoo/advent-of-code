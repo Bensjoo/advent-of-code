{
 "cells": [
  {
   "cell_type": "code",
   "execution_count": 48,
   "metadata": {},
   "outputs": [],
   "source": [
    "def parse_input(input_path='test.txt'):\n",
    "    with open(input_path, 'r') as f:\n",
    "        lines = f.read().splitlines()\n",
    "    \n",
    "    directions = lines[0]\n",
    "    directions = [0 if char == 'L' else 1 for char in directions]\n",
    "    \n",
    "    # parse out mapping, no need for regex since pattern is simple\n",
    "    mapping = {}\n",
    "    for line in lines[2:]:\n",
    "        mapping[line[0:3]] = (line[7:10], line[12:15])\n",
    "\n",
    "    return directions, mapping\n",
    "directions, mapping = parse_input('input.txt')"
   ]
  },
  {
   "cell_type": "code",
   "execution_count": 40,
   "metadata": {},
   "outputs": [
    {
     "ename": "KeyError",
     "evalue": "'AAA'",
     "output_type": "error",
     "traceback": [
      "\u001b[0;31m---------------------------------------------------------------------------\u001b[0m",
      "\u001b[0;31mKeyError\u001b[0m                                  Traceback (most recent call last)",
      "\u001b[1;32m/Users/bengan/development/git/advent-of-code/08_haunted_wasteland/find_path.ipynb Cell 2\u001b[0m line \u001b[0;36m1\n\u001b[1;32m     <a href='vscode-notebook-cell:/Users/bengan/development/git/advent-of-code/08_haunted_wasteland/find_path.ipynb#W1sZmlsZQ%3D%3D?line=10'>11</a>\u001b[0m         n_steps \u001b[39m+\u001b[39m\u001b[39m=\u001b[39m \u001b[39m1\u001b[39m\n\u001b[1;32m     <a href='vscode-notebook-cell:/Users/bengan/development/git/advent-of-code/08_haunted_wasteland/find_path.ipynb#W1sZmlsZQ%3D%3D?line=11'>12</a>\u001b[0m     \u001b[39mreturn\u001b[39;00m n_steps\n\u001b[0;32m---> <a href='vscode-notebook-cell:/Users/bengan/development/git/advent-of-code/08_haunted_wasteland/find_path.ipynb#W1sZmlsZQ%3D%3D?line=12'>13</a>\u001b[0m n_steps \u001b[39m=\u001b[39m traverse_path(directions, mapping)\n",
      "\u001b[1;32m/Users/bengan/development/git/advent-of-code/08_haunted_wasteland/find_path.ipynb Cell 2\u001b[0m line \u001b[0;36m1\n\u001b[1;32m      <a href='vscode-notebook-cell:/Users/bengan/development/git/advent-of-code/08_haunted_wasteland/find_path.ipynb#W1sZmlsZQ%3D%3D?line=6'>7</a>\u001b[0m \u001b[39mwhile\u001b[39;00m current \u001b[39m!=\u001b[39m \u001b[39m'\u001b[39m\u001b[39mZZZ\u001b[39m\u001b[39m'\u001b[39m:\n\u001b[1;32m      <a href='vscode-notebook-cell:/Users/bengan/development/git/advent-of-code/08_haunted_wasteland/find_path.ipynb#W1sZmlsZQ%3D%3D?line=7'>8</a>\u001b[0m     \u001b[39m# take a step\u001b[39;00m\n\u001b[1;32m      <a href='vscode-notebook-cell:/Users/bengan/development/git/advent-of-code/08_haunted_wasteland/find_path.ipynb#W1sZmlsZQ%3D%3D?line=8'>9</a>\u001b[0m     direction \u001b[39m=\u001b[39m directions[(n_steps \u001b[39m%\u001b[39m n_directions)]\n\u001b[0;32m---> <a href='vscode-notebook-cell:/Users/bengan/development/git/advent-of-code/08_haunted_wasteland/find_path.ipynb#W1sZmlsZQ%3D%3D?line=9'>10</a>\u001b[0m     current \u001b[39m=\u001b[39m mapping[current][direction]\n\u001b[1;32m     <a href='vscode-notebook-cell:/Users/bengan/development/git/advent-of-code/08_haunted_wasteland/find_path.ipynb#W1sZmlsZQ%3D%3D?line=10'>11</a>\u001b[0m     n_steps \u001b[39m+\u001b[39m\u001b[39m=\u001b[39m \u001b[39m1\u001b[39m\n\u001b[1;32m     <a href='vscode-notebook-cell:/Users/bengan/development/git/advent-of-code/08_haunted_wasteland/find_path.ipynb#W1sZmlsZQ%3D%3D?line=11'>12</a>\u001b[0m \u001b[39mreturn\u001b[39;00m n_steps\n",
      "\u001b[0;31mKeyError\u001b[0m: 'AAA'"
     ]
    }
   ],
   "source": [
    "def traverse_path(directions, mapping):\n",
    "    n_steps = 0\n",
    "    start = 'AAA'\n",
    "    current = 'AAA'\n",
    "    n_directions = len(directions)\n",
    "\n",
    "    while current != 'ZZZ':\n",
    "        # take a step\n",
    "        direction = directions[(n_steps % n_directions)]\n",
    "        current = mapping[current][direction]\n",
    "        n_steps += 1\n",
    "    return n_steps\n",
    "n_steps = traverse_path(directions, mapping)"
   ]
  },
  {
   "cell_type": "code",
   "execution_count": 36,
   "metadata": {},
   "outputs": [
    {
     "data": {
      "text/plain": [
       "6"
      ]
     },
     "execution_count": 36,
     "metadata": {},
     "output_type": "execute_result"
    }
   ],
   "source": [
    "n_steps"
   ]
  },
  {
   "cell_type": "markdown",
   "metadata": {},
   "source": [
    "## Part 2\n",
    "\n",
    "gotta figure out starting points"
   ]
  },
  {
   "cell_type": "code",
   "execution_count": 72,
   "metadata": {},
   "outputs": [
    {
     "name": "stdout",
     "output_type": "stream",
     "text": [
      "starting_points: ['DNA', 'HNA', 'AAA', 'LMA', 'VGA', 'LLA']\n"
     ]
    }
   ],
   "source": [
    "def find_starting_points(mapping):\n",
    "    starting_points = []\n",
    "    for key in mapping.keys():\n",
    "        if key[2] == 'A':\n",
    "            starting_points.append(key)\n",
    "    return starting_points\n",
    "\n",
    "starting_points = find_starting_points(mapping)\n",
    "print('starting_points:', starting_points)"
   ]
  },
  {
   "cell_type": "code",
   "execution_count": null,
   "metadata": {},
   "outputs": [],
   "source": [
    "def traverse_parallel(directions, mapping, starting_points):\n",
    "    n_steps = 0\n",
    "    n_directions = len(directions)\n",
    "    current_positions = starting_points\n",
    "    current_end = [char[2] for char in starting_points]\n",
    "    goal = ['Z' for _ in starting_points]\n",
    "\n",
    "    print(current_end, goal)\n",
    "    while current_end != goal:\n",
    "        # print(current_positions)\n",
    "        direction = directions[(n_steps % n_directions)]\n",
    "        for i, point in enumerate(current_positions):\n",
    "            current_positions[i] = mapping[point][direction]\n",
    "            current_end = [char[2] for char in current_positions]\n",
    "        n_steps += 1\n",
    "    print('got to:', current_positions)\n",
    "    return n_steps\n",
    "traverse_parallel(directions, mapping, starting_points)\n"
   ]
  },
  {
   "cell_type": "markdown",
   "metadata": {},
   "source": [
    "### Brute force is too slow!\n",
    "- we need to look at individual cycles of when:\n",
    "- we get from A -> **Z_0** -> .. -> Zn -> .. -> **Z_0**"
   ]
  },
  {
   "cell_type": "code",
   "execution_count": 73,
   "metadata": {},
   "outputs": [],
   "source": [
    "def simulate_cycle(pos, directions, mapping):\n",
    "    n_steps, n_directions, first_z = 0, len(directions), None\n",
    "    cycle = []\n",
    "    current = pos\n",
    "    while True:\n",
    "        while n_steps == 0 or current[2] != 'Z':\n",
    "            # take a step\n",
    "            direction = directions[n_steps % n_directions]\n",
    "            current = mapping[current][direction]\n",
    "            n_steps += 1\n",
    "        \n",
    "        cycle.append(n_steps)\n",
    "        \n",
    "        if first_z is None:\n",
    "            first_z = current\n",
    "            n_steps = 0\n",
    "        elif current == first_z:\n",
    "            # end of cycle\n",
    "            break\n",
    "        else:\n",
    "            direction = directions[n_steps % n_directions]\n",
    "            current = mapping[current][direction]\n",
    "            n_steps += 1\n",
    "\n",
    "    print('cycle for start pos', pos, ':', cycle)\n",
    "    return cycle"
   ]
  },
  {
   "cell_type": "code",
   "execution_count": 74,
   "metadata": {},
   "outputs": [
    {
     "name": "stdout",
     "output_type": "stream",
     "text": [
      "cycle for start pos DNA : [20569, 20569]\n",
      "cycle for start pos HNA : [18727, 18727]\n",
      "cycle for start pos AAA : [14429, 14429]\n",
      "cycle for start pos LMA : [13201, 13201]\n",
      "cycle for start pos VGA : [18113, 18113]\n",
      "cycle for start pos LLA : [22411, 22411]\n"
     ]
    }
   ],
   "source": [
    "cycles = []\n",
    "for point in starting_points:\n",
    "    \n",
    "    cycles.append(simulate_cycle(point, directions, mapping))"
   ]
  },
  {
   "cell_type": "code",
   "execution_count": 76,
   "metadata": {},
   "outputs": [
    {
     "name": "stdout",
     "output_type": "stream",
     "text": [
      "lcm: 10921547990923\n"
     ]
    }
   ],
   "source": [
    "# cycles are same values so the loop is nice and even, no offsets\n",
    "# need to find the lowest common denominator\n",
    "from math import gcd\n",
    "\n",
    "\n",
    "lcm = cycles[0][0]\n",
    "for cycle in cycles[1:]:\n",
    "    lcm *= cycle[0] // gcd(lcm, cycle[0])\n",
    "print('lcm:', lcm)"
   ]
  },
  {
   "cell_type": "code",
   "execution_count": null,
   "metadata": {},
   "outputs": [],
   "source": []
  }
 ],
 "metadata": {
  "kernelspec": {
   "display_name": "python-dev",
   "language": "python",
   "name": "python3"
  },
  "language_info": {
   "codemirror_mode": {
    "name": "ipython",
    "version": 3
   },
   "file_extension": ".py",
   "mimetype": "text/x-python",
   "name": "python",
   "nbconvert_exporter": "python",
   "pygments_lexer": "ipython3",
   "version": "3.10.8"
  }
 },
 "nbformat": 4,
 "nbformat_minor": 2
}
