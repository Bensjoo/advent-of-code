{
 "cells": [
  {
   "cell_type": "code",
   "execution_count": 1,
   "id": "834d8a9b-48e5-4c43-9b39-50746ca2fe0b",
   "metadata": {},
   "outputs": [],
   "source": [
    "with open('input.txt', 'r') as f:\n",
    "    text = f.read()"
   ]
  },
  {
   "cell_type": "code",
   "execution_count": 5,
   "id": "8a0cfff2-57a1-41f9-a9d3-9e2972476201",
   "metadata": {},
   "outputs": [],
   "source": [
    "scrambled = text.split('\\n')"
   ]
  },
  {
   "cell_type": "code",
   "execution_count": 11,
   "id": "4647d5b5-b903-4250-995e-2fd71cc19a05",
   "metadata": {},
   "outputs": [
    {
     "data": {
      "text/plain": [
       "'9eightone'"
      ]
     },
     "execution_count": 11,
     "metadata": {},
     "output_type": "execute_result"
    }
   ],
   "source": [
    "scrambled[0]"
   ]
  },
  {
   "cell_type": "code",
   "execution_count": 75,
   "id": "dbcc3f18-e89c-4e48-89d3-6666a878cacb",
   "metadata": {},
   "outputs": [],
   "source": [
    "def find_number(entry, debug=False):\n",
    "    text_nums = {\n",
    "        'one': '1',\n",
    "        'two': '2',\n",
    "        'three': '3',\n",
    "        'four': '4',\n",
    "        'five': '5',\n",
    "        'six': '6',\n",
    "        'seven': '7',\n",
    "        'eight': '8',\n",
    "        'nine': '9',\n",
    "    }\n",
    "    if debug:\n",
    "        print(entry)\n",
    "    n = len(entry)\n",
    "    l, r = 0, n - 1\n",
    "    left_val, right_val = None, None\n",
    "    # Find left\n",
    "    while l < n:\n",
    "\n",
    "        if entry[l].isdigit():\n",
    "            left_val = entry[l]\n",
    "\n",
    "        for num, val in text_nums.items():\n",
    "            if n - l >= len(num) and entry[l:l+len(num)] == num:\n",
    "                left_val = val\n",
    "                break\n",
    "        if left_val:\n",
    "            break\n",
    "        else:\n",
    "            l += 1\n",
    "    \n",
    "    while r >= l:\n",
    "        if entry[r].isdigit():\n",
    "            right_val = entry[r]\n",
    "\n",
    "        for num, val in text_nums.items():\n",
    "            if n - r >= len(num) and entry[r:r+len(num)] == num:\n",
    "                right_val = val\n",
    "                break\n",
    "        \n",
    "        if right_val:\n",
    "            break\n",
    "        else:\n",
    "            r -= 1\n",
    "    return int(left_val + right_val)"
   ]
  },
  {
   "cell_type": "code",
   "execution_count": 76,
   "id": "837d31be-67e9-4ff9-b954-07f63a6cf9e0",
   "metadata": {},
   "outputs": [
    {
     "data": {
      "text/plain": [
       "23"
      ]
     },
     "execution_count": 76,
     "metadata": {},
     "output_type": "execute_result"
    }
   ],
   "source": [
    "len('rhrfthv886vflthreeztvzs')"
   ]
  },
  {
   "cell_type": "code",
   "execution_count": 77,
   "id": "e879153d-be5a-4837-839c-d0ef6b4fa1c4",
   "metadata": {},
   "outputs": [
    {
     "name": "stdout",
     "output_type": "stream",
     "text": [
      "rhrfthv886vflthreeztvzs\n"
     ]
    },
    {
     "data": {
      "text/plain": [
       "83"
      ]
     },
     "execution_count": 77,
     "metadata": {},
     "output_type": "execute_result"
    }
   ],
   "source": [
    "find_number(scrambled[3], True)"
   ]
  },
  {
   "cell_type": "code",
   "execution_count": 78,
   "id": "129aebbf-daa5-490f-aeb2-41ccbc0f8aa0",
   "metadata": {},
   "outputs": [
    {
     "data": {
      "text/plain": [
       "3"
      ]
     },
     "execution_count": 78,
     "metadata": {},
     "output_type": "execute_result"
    }
   ],
   "source": [
    "len('one')"
   ]
  },
  {
   "cell_type": "code",
   "execution_count": 79,
   "id": "8a86af2e-2dfa-4a0f-a329-06721ec6db4b",
   "metadata": {
    "tags": []
   },
   "outputs": [],
   "source": [
    "ans = sum([find_number(entry) for entry in scrambled])"
   ]
  },
  {
   "cell_type": "code",
   "execution_count": 80,
   "id": "3042b71a-76d3-4d80-b1de-5385cde57bb0",
   "metadata": {},
   "outputs": [
    {
     "data": {
      "text/plain": [
       "54431"
      ]
     },
     "execution_count": 80,
     "metadata": {},
     "output_type": "execute_result"
    }
   ],
   "source": [
    "ans"
   ]
  },
  {
   "cell_type": "code",
   "execution_count": 28,
   "id": "2bbb1142-bc02-4d33-a276-992b191ca4bb",
   "metadata": {},
   "outputs": [],
   "source": []
  },
  {
   "cell_type": "code",
   "execution_count": 29,
   "id": "0a14f72a-d25e-4d35-bdc8-a065f77dbc64",
   "metadata": {},
   "outputs": [
    {
     "name": "stdout",
     "output_type": "stream",
     "text": [
      "one 3\n",
      "two 3\n",
      "three 5\n",
      "four 4\n",
      "five 4\n",
      "six 3\n",
      "seven 5\n",
      "eight 5\n",
      "nine 4\n"
     ]
    }
   ],
   "source": [
    "text_nums = [(len())]"
   ]
  },
  {
   "cell_type": "code",
   "execution_count": null,
   "id": "e8429dac-6603-45fe-82b3-f09cf8a1b1f2",
   "metadata": {},
   "outputs": [],
   "source": []
  }
 ],
 "metadata": {
  "kernelspec": {
   "display_name": "Python 3 (ipykernel)",
   "language": "python",
   "name": "python3"
  },
  "language_info": {
   "codemirror_mode": {
    "name": "ipython",
    "version": 3
   },
   "file_extension": ".py",
   "mimetype": "text/x-python",
   "name": "python",
   "nbconvert_exporter": "python",
   "pygments_lexer": "ipython3",
   "version": "3.10.8"
  }
 },
 "nbformat": 4,
 "nbformat_minor": 5
}
