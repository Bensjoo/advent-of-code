{
 "cells": [
  {
   "cell_type": "markdown",
   "id": "530a476e-66d1-4c98-806b-44b50fd0e130",
   "metadata": {},
   "source": [
    "any number adjacent to a symbol, even diagonally, is a \"part number\" and should be included in your sum. (Periods (.) do not count as a symbol.)\n"
   ]
  },
  {
   "cell_type": "code",
   "execution_count": 45,
   "id": "b4f27d02-f0be-428c-b498-6a62d75594ec",
   "metadata": {},
   "outputs": [],
   "source": [
    "with open('input.txt', 'r') as file:\n",
    "    text = file.read()"
   ]
  },
  {
   "cell_type": "code",
   "execution_count": 46,
   "id": "0d74f7c1-2372-4004-b411-129dfdc3afe9",
   "metadata": {},
   "outputs": [],
   "source": [
    "mat = text.split('\\n')"
   ]
  },
  {
   "cell_type": "code",
   "execution_count": 57,
   "id": "fc6e9988-c34f-4f07-b745-e08d6e56db75",
   "metadata": {},
   "outputs": [],
   "source": [
    "test = [\n",
    "    '467..114..',\n",
    "    '...*......',\n",
    "    '..35...633',\n",
    "    '......#...',\n",
    "    '617*......',\n",
    "    '.....+.58.',\n",
    "    '..592.....',\n",
    "    '......755.',\n",
    "    '...$.*....',\n",
    "    '.664.598..',\n",
    "]"
   ]
  },
  {
   "cell_type": "code",
   "execution_count": 79,
   "metadata": {},
   "outputs": [
    {
     "name": "stdout",
     "output_type": "stream",
     "text": [
      "10 10\n",
      "4361\n",
      "140 140\n",
      "526404\n"
     ]
    }
   ],
   "source": [
    "# some type of cached-padded map of adjacent tools?\n",
    "nums = '0123456789'\n",
    "non_tool = nums + '.'\n",
    "\n",
    "def sum_tools(input):\n",
    "    \n",
    "    res = 0\n",
    "    h, w = len(input), len(input[0])\n",
    "    directions = [\n",
    "        (-1,-1), (-1, 0), (-1, 1),\n",
    "        (0, -1),          (0, 1),\n",
    "        (1,-1), (1, 0), (1, 1),\n",
    "    ]\n",
    "    print(h, w)\n",
    "    adjacent_map = [[False for _ in range(w)] for _ in range(h)]\n",
    "    for i, row in enumerate(input):\n",
    "        for j, char in enumerate(row):\n",
    "            if char not in non_tool: # found tool!\n",
    "                for dx, dy in directions:\n",
    "                    new_i, new_j = i + dx, j + dy\n",
    "                    if 0 <= new_i < h and 0 <= new_j < w:\n",
    "                        adjacent_map[new_i][new_j] = True\n",
    "    \n",
    "    current_num = \"\"\n",
    "    has_tool = False\n",
    "    # now check for numbers and add if has true\n",
    "    for i, row in enumerate(input):\n",
    "        for j, char in enumerate(row):\n",
    "            if char in nums:\n",
    "                current_num += char\n",
    "                if adjacent_map[i][j]:\n",
    "                    has_tool = True\n",
    "                if j == w - 1 and has_tool: # last index\n",
    "                    res += int(current_num)\n",
    "                    current_num = \"\"\n",
    "                    has_tool = False\n",
    "\n",
    "            elif current_num: # current is not a num but we have a number\n",
    "                if has_tool:\n",
    "                    res += int(current_num)\n",
    "                    current_num = \"\"\n",
    "                    has_tool = False\n",
    "                else:\n",
    "                    current_num = \"\"\n",
    "    return res\n",
    "print(sum_tools(test))\n",
    "print(sum_tools(mat))"
   ]
  },
  {
   "cell_type": "code",
   "execution_count": 127,
   "metadata": {},
   "outputs": [
    {
     "name": "stdout",
     "output_type": "stream",
     "text": [
      "test_set: 467835\n",
      "my_set: 84399773\n"
     ]
    }
   ],
   "source": [
    "# part 2: maybe was better to look at tools and their adjacent numbers\n",
    "def part_two(input):\n",
    "    res = 0\n",
    "    h, w = len(input), len(input[0])\n",
    "    parts = {}\n",
    "    nums = '0123456789'\n",
    "    non_tool = nums + '.'\n",
    "    \n",
    "    for i, row in enumerate(input):\n",
    "        for j, char in enumerate(row):\n",
    "            if char not in non_tool: # found tool!\n",
    "                parts[(i,j)] = {'sym': char, 'nums': []}\n",
    "    \n",
    "    # now append numbers to adjacent sym\n",
    "    current_num = \"\"\n",
    "    for i, row in enumerate(input):\n",
    "        row += '.'\n",
    "        for j, char in enumerate(row):\n",
    "            if char in nums:\n",
    "                current_num += char\n",
    "            \n",
    "\n",
    "            if char not in nums and (current_num or j == w - 1):\n",
    "                # Check for adjacent symbol above and below\n",
    "                # print([(i, ind) for ind in range(j - len(current_num) - 1,j+1)])\n",
    "                for ind in range(j - len(current_num) - 1, j+1):\n",
    "                    if (i - 1, ind) in parts:\n",
    "                        parts[(i-1, ind)]['nums'].append(int(current_num))\n",
    "                        current_num = \"\"\n",
    "                    if (i + 1, ind) in parts:\n",
    "                        parts[(i+1, ind)]['nums'].append(int(current_num))\n",
    "                        current_num = \"\"\n",
    "                \n",
    "                # check value after!\n",
    "                if (i, j) in parts:\n",
    "                    parts[(i, j)][\"nums\"].append(int(current_num))\n",
    "                    current_num = \"\"\n",
    "                \n",
    "                if (i, j - len(current_num) - 1) in parts:\n",
    "                    parts[(i, j-len(current_num) - 1)][\"nums\"].append(int(current_num))\n",
    "                    current_num = \"\"\n",
    "                current_num = \"\"\n",
    "\n",
    "\n",
    "    for k, v in parts.items():\n",
    "        # print(k, v)\n",
    "        if v['sym'] == '*' and len(v['nums']) == 2:\n",
    "            res += v['nums'][0] * v['nums'][1]\n",
    "        #else:\n",
    "        #    res += v['nums'][0]\n",
    "    return res\n",
    "print('test_set:',part_two(test))\n",
    "print('my_set:',part_two(mat))\n"
   ]
  },
  {
   "cell_type": "code",
   "execution_count": 120,
   "metadata": {},
   "outputs": [
    {
     "name": "stdout",
     "output_type": "stream",
     "text": [
      "467..114..\n",
      "...*......\n",
      "..35...633\n",
      "......#...\n",
      "617*......\n",
      ".....+.58.\n",
      "..592.....\n",
      "......755.\n",
      "...$.*....\n",
      ".664.598..\n"
     ]
    }
   ],
   "source": [
    "for row in test:\n",
    "    print(row)"
   ]
  },
  {
   "cell_type": "code",
   "execution_count": 97,
   "metadata": {},
   "outputs": [
    {
     "name": "stdout",
     "output_type": "stream",
     "text": [
      "2\n",
      "3\n",
      "4\n",
      "5\n",
      "6\n"
     ]
    }
   ],
   "source": [
    "# double sweep again. instead of true false, map the adjacent symbol (i,j)\n",
    "# additional map: {(i,j): {sym: '*', nums: [123,212]}}\n",
    "'...123...'\n",
    "for ind in range(5 - 3,5+2):\n",
    "    print(ind)\n",
    "5 - 3"
   ]
  },
  {
   "cell_type": "code",
   "execution_count": 94,
   "metadata": {},
   "outputs": [
    {
     "name": "stdout",
     "output_type": "stream",
     "text": [
      "0\n",
      "1\n"
     ]
    }
   ],
   "source": [
    "for i in range(0,2):\n",
    "    print(i)"
   ]
  },
  {
   "cell_type": "code",
   "execution_count": null,
   "metadata": {},
   "outputs": [],
   "source": []
  }
 ],
 "metadata": {
  "kernelspec": {
   "display_name": "Python 3 (ipykernel)",
   "language": "python",
   "name": "python3"
  },
  "language_info": {
   "codemirror_mode": {
    "name": "ipython",
    "version": 3
   },
   "file_extension": ".py",
   "mimetype": "text/x-python",
   "name": "python",
   "nbconvert_exporter": "python",
   "pygments_lexer": "ipython3",
   "version": "3.10.8"
  }
 },
 "nbformat": 4,
 "nbformat_minor": 5
}
