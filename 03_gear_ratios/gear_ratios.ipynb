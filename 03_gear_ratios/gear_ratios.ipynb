{
 "cells": [
  {
   "cell_type": "markdown",
   "id": "530a476e-66d1-4c98-806b-44b50fd0e130",
   "metadata": {},
   "source": [
    "any number adjacent to a symbol, even diagonally, is a \"part number\" and should be included in your sum. (Periods (.) do not count as a symbol.)\n"
   ]
  },
  {
   "cell_type": "code",
   "execution_count": 1,
   "id": "b4f27d02-f0be-428c-b498-6a62d75594ec",
   "metadata": {},
   "outputs": [],
   "source": [
    "with open('input.txt', 'r') as file:\n",
    "    text = file.read()"
   ]
  },
  {
   "cell_type": "code",
   "execution_count": 4,
   "id": "0d74f7c1-2372-4004-b411-129dfdc3afe9",
   "metadata": {},
   "outputs": [],
   "source": [
    "mat = text.split('\\n')"
   ]
  },
  {
   "cell_type": "code",
   "execution_count": 9,
   "id": "fc6e9988-c34f-4f07-b745-e08d6e56db75",
   "metadata": {},
   "outputs": [],
   "source": [
    "test = [\n",
    "    '467..114..',\n",
    "    '...*......',\n",
    "    '..35..633.',\n",
    "    '......#...',\n",
    "    '617*......',\n",
    "    '.....+.58.',\n",
    "    '..592.....',\n",
    "    '......755.',\n",
    "    '...$.*....',\n",
    "    '.664.598..',\n",
    "]"
   ]
  },
  {
   "cell_type": "code",
   "execution_count": null,
   "id": "f2d75432-c574-4e1b-a453-dcfb6630dd8a",
   "metadata": {},
   "outputs": [],
   "source": []
  }
 ],
 "metadata": {
  "kernelspec": {
   "display_name": "Python 3 (ipykernel)",
   "language": "python",
   "name": "python3"
  },
  "language_info": {
   "codemirror_mode": {
    "name": "ipython",
    "version": 3
   },
   "file_extension": ".py",
   "mimetype": "text/x-python",
   "name": "python",
   "nbconvert_exporter": "python",
   "pygments_lexer": "ipython3",
   "version": "3.10.8"
  }
 },
 "nbformat": 4,
 "nbformat_minor": 5
}
