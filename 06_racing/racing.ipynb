{
 "cells": [
  {
   "cell_type": "code",
   "execution_count": 30,
   "metadata": {},
   "outputs": [],
   "source": [
    "# given values\n",
    "times = [47, 70, 75, 66]\n",
    "records = [282, 1079, 1147, 1062]\n",
    "\n",
    "# test values\n",
    "#times = [7, 15, 30]\n",
    "#records = [9, 40, 200]"
   ]
  },
  {
   "cell_type": "code",
   "execution_count": 31,
   "metadata": {},
   "outputs": [
    {
     "data": {
      "text/plain": [
       "281600"
      ]
     },
     "execution_count": 31,
     "metadata": {},
     "output_type": "execute_result"
    }
   ],
   "source": [
    "# brute force: check all possible permutations\n",
    "def check_valid_permutations(time, record):\n",
    "    # check number of valid permutations for one time, record\n",
    "    n_valid = 0\n",
    "    # check all combos of holding\n",
    "    for i in range(time):\n",
    "        \n",
    "        # possible distance given pressed i ms\n",
    "        d_i = (time - i) * i\n",
    "        if d_i > record:\n",
    "            n_valid += 1\n",
    "    return n_valid\n",
    "\n",
    "def multiply_valid_permutations(times, records):\n",
    "    valid = [check_valid_permutations(time, record) for time, record in zip(times, records)]\n",
    "    res = 1\n",
    "    for factor in valid:\n",
    "        res *= factor\n",
    "    return res\n",
    "\n",
    "multiply_valid_permutations(times, records)       "
   ]
  },
  {
   "cell_type": "code",
   "execution_count": 32,
   "metadata": {},
   "outputs": [],
   "source": [
    "# is there some recursive solution?\n",
    "# a map to consider is the given number of valid solutions given (current speed, time to go?, distance).\n"
   ]
  },
  {
   "cell_type": "code",
   "execution_count": 33,
   "metadata": {},
   "outputs": [],
   "source": [
    "# smarter solution: do two-pointer type solution, find lower and upper bound!"
   ]
  },
  {
   "cell_type": "markdown",
   "metadata": {},
   "source": [
    "## Part 2"
   ]
  },
  {
   "cell_type": "code",
   "execution_count": 93,
   "metadata": {},
   "outputs": [],
   "source": [
    "# given values\n",
    "time = 47_707_566\n",
    "record = 282_107_911_471_062\n",
    "\n",
    "# test values\n",
    "#times = [7, 15, 30]\n",
    "#records = [9, 40, 200]"
   ]
  },
  {
   "cell_type": "code",
   "execution_count": 114,
   "metadata": {},
   "outputs": [
    {
     "name": "stdout",
     "output_type": "stream",
     "text": [
      "number of ways: 33875953\n"
     ]
    }
   ],
   "source": [
    "# values are very high now so gotta do some faster searching\n",
    "# even better use of a two-pointer: why not bin search?\n",
    "\n",
    "def find_valid_strategies(time, record):\n",
    "    def calc_di(mid):\n",
    "        return (time - mid) * mid\n",
    "\n",
    "    # Find the low boundary\n",
    "    l1, r1 = 1, time\n",
    "    while l1 < r1:\n",
    "        mid = (l1 + r1) // 2\n",
    "        if calc_di(mid) > record:\n",
    "            r1 = mid\n",
    "        else:\n",
    "            l1 = mid + 1\n",
    "    low = r1\n",
    "\n",
    "    # Find the high boundary\n",
    "    l2, r2 = 1, time\n",
    "    while l2 < r2:\n",
    "        mid = (l2 + r2) // 2\n",
    "        if calc_di(mid) > record:\n",
    "            l2 = mid + 1\n",
    "        else:\n",
    "            r2 = mid\n",
    "    high = l2 - 1\n",
    "\n",
    "    return low, high\n",
    "low, high = find_valid_strategies(time, record)\n",
    "print('number of ways:', high - low + 1)"
   ]
  },
  {
   "cell_type": "code",
   "execution_count": null,
   "metadata": {},
   "outputs": [],
   "source": []
  }
 ],
 "metadata": {
  "kernelspec": {
   "display_name": "python-dev",
   "language": "python",
   "name": "python3"
  },
  "language_info": {
   "codemirror_mode": {
    "name": "ipython",
    "version": 3
   },
   "file_extension": ".py",
   "mimetype": "text/x-python",
   "name": "python",
   "nbconvert_exporter": "python",
   "pygments_lexer": "ipython3",
   "version": "3.10.8"
  }
 },
 "nbformat": 4,
 "nbformat_minor": 2
}
