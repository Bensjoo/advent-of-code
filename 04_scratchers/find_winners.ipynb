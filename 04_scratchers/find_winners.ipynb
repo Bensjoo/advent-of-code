{
 "cells": [
  {
   "cell_type": "code",
   "execution_count": 6,
   "metadata": {},
   "outputs": [],
   "source": [
    "import re"
   ]
  },
  {
   "cell_type": "code",
   "execution_count": 16,
   "metadata": {},
   "outputs": [
    {
     "data": {
      "text/plain": [
       "([{17, 41, 48, 83, 86},\n",
       "  {13, 16, 20, 32, 61},\n",
       "  {1, 21, 44, 53, 59},\n",
       "  {41, 69, 73, 84, 92},\n",
       "  {26, 28, 32, 83, 87},\n",
       "  {13, 18, 31, 56, 72}],\n",
       " [[83, 86, 6, 31, 17, 9, 48, 53],\n",
       "  [61, 30, 68, 82, 17, 32, 24, 19],\n",
       "  [69, 82, 63, 72, 16, 21, 14, 1],\n",
       "  [59, 84, 76, 51, 58, 5, 54, 83],\n",
       "  [88, 30, 70, 12, 93, 22, 82, 36],\n",
       "  [74, 77, 10, 23, 35, 67, 36, 11]])"
      ]
     },
     "execution_count": 16,
     "metadata": {},
     "output_type": "execute_result"
    }
   ],
   "source": [
    "input_path = 'input.txt'\n",
    "test_path = 'test.txt'\n",
    "def parse_input_text(input_path):\n",
    "    with open(input_path, 'r') as file:\n",
    "        text = file.read()\n",
    "    text = text.split('\\n')\n",
    "    \n",
    "    # save winners and the numbers for each game\n",
    "    winners, rows = [], []\n",
    "    for line in text:\n",
    "        line = (\n",
    "            line\n",
    "            .replace('  ', ' ')\n",
    "            .split(': ')[1]\n",
    "            .split(' | ')\n",
    "        )\n",
    "        winner = {\n",
    "            int(num) for num \n",
    "            in line[0].split(' ')\n",
    "        }\n",
    "        row = [int(num) for num in line[1].split(' ')]\n",
    "        winners.append(winner)\n",
    "        rows.append(row)\n",
    "\n",
    "\n",
    "    return winners, rows\n",
    "parse_input_text(input_path=test_path)"
   ]
  },
  {
   "cell_type": "code",
   "execution_count": 19,
   "metadata": {},
   "outputs": [
    {
     "data": {
      "text/plain": [
       "25010"
      ]
     },
     "execution_count": 19,
     "metadata": {},
     "output_type": "execute_result"
    }
   ],
   "source": [
    "winners, rows = parse_input_text(input_path=input_path)\n",
    "def calculate_points(winners, rows):\n",
    "    res = 0\n",
    "    for i, row in enumerate(rows):\n",
    "        current_score = 0\n",
    "        for number in row:\n",
    "            if number in winners[i]:\n",
    "                current_score += 1\n",
    "        if current_score > 0:\n",
    "            res += 2 ** (current_score - 1)\n",
    "    \n",
    "\n",
    "\n",
    "    return res\n",
    "calculate_points(winners, rows)"
   ]
  },
  {
   "cell_type": "markdown",
   "metadata": {},
   "source": [
    "## Part 2"
   ]
  },
  {
   "cell_type": "code",
   "execution_count": 43,
   "metadata": {},
   "outputs": [
    {
     "data": {
      "text/plain": [
       "9924412"
      ]
     },
     "execution_count": 43,
     "metadata": {},
     "output_type": "execute_result"
    }
   ],
   "source": [
    "\n",
    "winners, rows = parse_input_text(input_path=input_path)\n",
    "\n",
    "\n",
    "def calculate_scratchcards(winners, rows):\n",
    "    # number of copies for card i, zero-pad with len of a card!\n",
    "    card_len = len(rows[0])\n",
    "    n_cards = len(rows)\n",
    "    scratch_cards = [1 for _ in range(n_cards + card_len)]\n",
    "\n",
    "    for i, row in enumerate(rows):\n",
    "        \n",
    "        row_score = 0\n",
    "        for number in row:\n",
    "            if number in winners[i]:\n",
    "                row_score += 1\n",
    "        for count in range(row_score):\n",
    "            scratch_cards[i + 1 + count] += scratch_cards[i]\n",
    "\n",
    "    res = sum(scratch_cards[:-card_len])\n",
    "    return res\n",
    "\n",
    "\n",
    "calculate_scratchcards(winners, rows)"
   ]
  },
  {
   "cell_type": "code",
   "execution_count": 20,
   "metadata": {},
   "outputs": [
    {
     "data": {
      "text/plain": [
       "0"
      ]
     },
     "execution_count": 20,
     "metadata": {},
     "output_type": "execute_result"
    }
   ],
   "source": [
    "0 ** 2"
   ]
  },
  {
   "cell_type": "code",
   "execution_count": null,
   "metadata": {},
   "outputs": [],
   "source": []
  }
 ],
 "metadata": {
  "kernelspec": {
   "display_name": "python-dev",
   "language": "python",
   "name": "python3"
  },
  "language_info": {
   "codemirror_mode": {
    "name": "ipython",
    "version": 3
   },
   "file_extension": ".py",
   "mimetype": "text/x-python",
   "name": "python",
   "nbconvert_exporter": "python",
   "pygments_lexer": "ipython3",
   "version": "3.10.8"
  }
 },
 "nbformat": 4,
 "nbformat_minor": 2
}
